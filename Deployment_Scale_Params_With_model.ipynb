{
 "cells": [
  {
   "cell_type": "code",
   "execution_count": 1,
   "id": "c2f2edcc",
   "metadata": {},
   "outputs": [],
   "source": [
    "import pickle\n",
    "loaded_modelandParam=pickle.load(open(\"model_with_scaler.sav\",'rb'))"
   ]
  },
  {
   "cell_type": "code",
   "execution_count": 2,
   "id": "3fe280a0",
   "metadata": {},
   "outputs": [],
   "source": [
    "# Extract the model and the scaler parameters\n",
    "loaded_model = loaded_modelandParam['model']\n",
    "scaler_mean = loaded_modelandParam['scaler_mean']\n",
    "scaler_scale = loaded_modelandParam['scaler_scale']\n"
   ]
  },
  {
   "cell_type": "code",
   "execution_count": 3,
   "id": "7a859cd1",
   "metadata": {},
   "outputs": [],
   "source": [
    "# Create a new scaler object and set the parameters\n",
    "from sklearn.preprocessing import StandardScaler\n",
    "loaded_scaler = StandardScaler()\n",
    "loaded_scaler.mean_ = scaler_mean\n",
    "loaded_scaler.scale_ = scaler_scale\n"
   ]
  },
  {
   "cell_type": "code",
   "execution_count": 4,
   "id": "738beef9",
   "metadata": {},
   "outputs": [],
   "source": [
    "preinput=loaded_scaler.transform([[1300,12000,400,0,1]])"
   ]
  },
  {
   "cell_type": "code",
   "execution_count": 5,
   "id": "6603223c",
   "metadata": {},
   "outputs": [],
   "source": [
    "result=loaded_model.predict(preinput)"
   ]
  },
  {
   "cell_type": "code",
   "execution_count": 6,
   "id": "aec764a8",
   "metadata": {},
   "outputs": [
    {
     "data": {
      "text/plain": [
       "array([107682.77009982])"
      ]
     },
     "execution_count": 6,
     "metadata": {},
     "output_type": "execute_result"
    }
   ],
   "source": [
    "result"
   ]
  },
  {
   "cell_type": "code",
   "execution_count": null,
   "id": "27219221",
   "metadata": {},
   "outputs": [],
   "source": []
  }
 ],
 "metadata": {
  "kernelspec": {
   "display_name": "Python 3 (ipykernel)",
   "language": "python",
   "name": "python3"
  },
  "language_info": {
   "codemirror_mode": {
    "name": "ipython",
    "version": 3
   },
   "file_extension": ".py",
   "mimetype": "text/x-python",
   "name": "python",
   "nbconvert_exporter": "python",
   "pygments_lexer": "ipython3",
   "version": "3.11.5"
  }
 },
 "nbformat": 4,
 "nbformat_minor": 5
}
