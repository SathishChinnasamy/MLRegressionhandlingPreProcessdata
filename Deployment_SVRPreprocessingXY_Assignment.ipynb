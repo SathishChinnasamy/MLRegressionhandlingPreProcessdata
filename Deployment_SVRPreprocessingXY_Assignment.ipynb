{
 "cells": [
  {
   "cell_type": "code",
   "execution_count": 3,
   "id": "8986397b",
   "metadata": {},
   "outputs": [],
   "source": [
    "import pickle\n",
    "loaded_model_data=pickle.load(open(\"model_with_scaler_xypreprocess.sav\",'rb'))"
   ]
  },
  {
   "cell_type": "code",
   "execution_count": 4,
   "id": "2d99c189",
   "metadata": {},
   "outputs": [],
   "source": [
    "# Extract the model and the scaler parameters\n",
    "loaded_model = loaded_model_data['model']\n",
    "scaler_mean = loaded_model_data['scaler_mean']\n",
    "scaler_scale = loaded_model_data['scaler_scale']\n",
    "y_scaler_mean=loaded_model_data['y_scaler_mean']\n",
    "y_scaler_scale= loaded_model_data['y_scaler_scale']"
   ]
  },
  {
   "cell_type": "code",
   "execution_count": 5,
   "id": "ca90449c",
   "metadata": {},
   "outputs": [],
   "source": [
    "from sklearn.preprocessing import StandardScaler\n",
    "loaded_scaler = StandardScaler()\n",
    "loaded_scaler.mean_ = scaler_mean\n",
    "loaded_scaler.scale_ = scaler_scale\n",
    "\n",
    "y_loaded_scaler=StandardScaler()\n",
    "y_loaded_scaler.mean_ = y_scaler_mean\n",
    "y_loaded_scaler.scale_ = y_scaler_scale"
   ]
  },
  {
   "cell_type": "code",
   "execution_count": 7,
   "id": "150611b0",
   "metadata": {},
   "outputs": [
    {
     "data": {
      "text/plain": [
       "array([-1.03222673])"
      ]
     },
     "execution_count": 7,
     "metadata": {},
     "output_type": "execute_result"
    }
   ],
   "source": [
    "preinput=loaded_scaler.transform([[1300,12000,400,0,1]])\n",
    "result=loaded_model.predict(preinput)\n",
    "result"
   ]
  },
  {
   "cell_type": "code",
   "execution_count": 8,
   "id": "7fdd3ba9",
   "metadata": {},
   "outputs": [
    {
     "data": {
      "text/plain": [
       "array([[65826.3978636]])"
      ]
     },
     "execution_count": 8,
     "metadata": {},
     "output_type": "execute_result"
    }
   ],
   "source": [
    "preoutput=y_loaded_scaler.inverse_transform([result])\n",
    "preoutput"
   ]
  },
  {
   "cell_type": "code",
   "execution_count": null,
   "id": "d385f848",
   "metadata": {},
   "outputs": [],
   "source": []
  }
 ],
 "metadata": {
  "kernelspec": {
   "display_name": "Python 3 (ipykernel)",
   "language": "python",
   "name": "python3"
  },
  "language_info": {
   "codemirror_mode": {
    "name": "ipython",
    "version": 3
   },
   "file_extension": ".py",
   "mimetype": "text/x-python",
   "name": "python",
   "nbconvert_exporter": "python",
   "pygments_lexer": "ipython3",
   "version": "3.11.5"
  }
 },
 "nbformat": 4,
 "nbformat_minor": 5
}
